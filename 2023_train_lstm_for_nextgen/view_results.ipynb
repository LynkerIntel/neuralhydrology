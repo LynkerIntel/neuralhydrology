{
 "cells": [
  {
   "cell_type": "code",
   "execution_count": 1,
   "metadata": {},
   "outputs": [],
   "source": [
    "import pandas as pd\n",
    "import numpy as np"
   ]
  },
  {
   "cell_type": "code",
   "execution_count": 21,
   "metadata": {},
   "outputs": [],
   "source": [
    "runs_dirs_list = [\n",
    "\"./runs/NOAHMP_Attributes_0711_214556\",\n",
    "\"./runs/PC1_Attributes_0711_214955\",\n",
    "\"./runs/PC2_Attributes_0711_215406\",\n",
    "\"./runs/PC3_Attributes_0711_215817\",\n",
    "\"./runs/PC4_Attributes_0711_220217\",\n",
    "\"./runs/PC5_Attributes_0711_220627\",\n",
    "\"./runs/PC6_Attributes_0711_221035\",\n",
    "\"./runs/PC7_Attributes_0711_221447\",\n",
    "\"./runs/PC8_Attributes_0711_221848\",\n",
    "\"./runs/PC9_Attributes_0711_222258\",\n",
    "\"./runs/HA_10random_Attributes_a_0711_222711\",\n",
    "\"./runs/HA_10random_Attributes_b_0711_223123\",\n",
    "\"./runs/HA_10random_Attributes_d_0711_223535\",\n",
    "\"./runs/HA_10random_Attributes_f_0711_223947\",\n",
    "\"./runs/HA_10random_Attributes_i_0711_224401\"\n",
    "]"
   ]
  },
  {
   "cell_type": "code",
   "execution_count": 22,
   "metadata": {},
   "outputs": [],
   "source": [
    "metrics_loc_str = \"/test/model_epoch002/test_metrics.csv\""
   ]
  },
  {
   "cell_type": "code",
   "execution_count": 26,
   "metadata": {},
   "outputs": [
    {
     "name": "stdout",
     "output_type": "stream",
     "text": [
      "NOAHMP_Attributes_0711_214556, 0.53\n",
      "PC1_Attributes_0711_214955, 0.53\n",
      "PC2_Attributes_0711_215406, 0.58\n",
      "PC3_Attributes_0711_215817, 0.57\n",
      "PC4_Attributes_0711_220217, 0.58\n",
      "PC5_Attributes_0711_220627, 0.61\n",
      "PC6_Attributes_0711_221035, 0.58\n",
      "PC7_Attributes_0711_221447, 0.59\n",
      "PC8_Attributes_0711_221848, 0.61\n",
      "PC9_Attributes_0711_222258, 0.61\n",
      "HA_10random_Attributes_a_0711_222711, 0.59\n",
      "HA_10random_Attributes_b_0711_223123, 0.57\n",
      "HA_10random_Attributes_d_0711_223535, 0.58\n",
      "HA_10random_Attributes_f_0711_223947, 0.56\n",
      "HA_10random_Attributes_i_0711_224401, 0.58\n"
     ]
    }
   ],
   "source": [
    "for run_dir in runs_dirs_list:\n",
    "    with open(run_dir+metrics_loc_str, \"r\") as f:\n",
    "        df = pd.read_csv(f)\n",
    "\n",
    "    print(f\"{run_dir.split('./runs/')[1]}, {np.nanmedian(df['NSE']):.2f}\")\n"
   ]
  },
  {
   "cell_type": "code",
   "execution_count": null,
   "metadata": {},
   "outputs": [],
   "source": []
  }
 ],
 "metadata": {
  "kernelspec": {
   "display_name": "nhgpu",
   "language": "python",
   "name": "python3"
  },
  "language_info": {
   "codemirror_mode": {
    "name": "ipython",
    "version": 3
   },
   "file_extension": ".py",
   "mimetype": "text/x-python",
   "name": "python",
   "nbconvert_exporter": "python",
   "pygments_lexer": "ipython3",
   "version": "3.10.12"
  }
 },
 "nbformat": 4,
 "nbformat_minor": 2
}
